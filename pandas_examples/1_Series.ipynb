{
 "cells": [
  {
   "cell_type": "code",
   "execution_count": 2,
   "metadata": {},
   "outputs": [
    {
     "name": "stdout",
     "output_type": "stream",
     "text": [
      "0    1\n",
      "1    2\n",
      "2    3\n",
      "3    4\n",
      "dtype: int64\n"
     ]
    }
   ],
   "source": [
    "#pandas series creation using list\n",
    "\n",
    "import pandas as pd\n",
    "l = [1,2,3,4]\n",
    "sl = pd.Series(l)\n",
    "print sl"
   ]
  },
  {
   "cell_type": "code",
   "execution_count": 5,
   "metadata": {},
   "outputs": [
    {
     "name": "stdout",
     "output_type": "stream",
     "text": [
      "1      one\n",
      "2      two\n",
      "3    three\n",
      "dtype: object\n"
     ]
    }
   ],
   "source": [
    "#series creation using dict\n",
    "\n",
    "d = {1: 'one', 2: 'two', 3: 'three'}\n",
    "sd = pd.Series(d)\n",
    "print sd"
   ]
  },
  {
   "cell_type": "code",
   "execution_count": 6,
   "metadata": {},
   "outputs": [
    {
     "name": "stdout",
     "output_type": "stream",
     "text": [
      "2      two\n",
      "1      one\n",
      "3    three\n",
      "dtype: object\n"
     ]
    }
   ],
   "source": [
    "# index seperately \n",
    "d = {1: 'one', 2: 'two', 3: 'three'}\n",
    "sd = pd.Series(d, index=[2,1,3])\n",
    "print sd"
   ]
  },
  {
   "cell_type": "code",
   "execution_count": 13,
   "metadata": {},
   "outputs": [
    {
     "name": "stdout",
     "output_type": "stream",
     "text": [
      "0    1.0\n",
      "1    2.0\n",
      "2    3.0\n",
      "3    4.0\n",
      "4    5.0\n",
      "5    6.0\n",
      "6    7.0\n",
      "7    8.0\n",
      "8    9.0\n",
      "dtype: float64\n"
     ]
    }
   ],
   "source": [
    "stype = pd.Series(range(1,10,1), dtype=float)\n",
    "\n",
    "print stype"
   ]
  },
  {
   "cell_type": "code",
   "execution_count": 11,
   "metadata": {},
   "outputs": [
    {
     "name": "stdout",
     "output_type": "stream",
     "text": [
      "0     1\n",
      "1     2\n",
      "2     3\n",
      "3     4\n",
      "4     5\n",
      "5     6\n",
      "6     7\n",
      "7     8\n",
      "8     9\n",
      "9    10\n",
      "dtype: int64\n",
      "89    90\n",
      "90    91\n",
      "91    92\n",
      "92    93\n",
      "93    94\n",
      "94    95\n",
      "95    96\n",
      "96    97\n",
      "97    98\n",
      "98    99\n",
      "dtype: int64\n"
     ]
    }
   ],
   "source": [
    "slarge = pd.Series(range(1,100,1))\n",
    "print slarge[:10]\n",
    "print slarge[-10:]"
   ]
  }
 ],
 "metadata": {
  "kernelspec": {
   "display_name": "Python 2",
   "language": "python",
   "name": "python2"
  },
  "language_info": {
   "codemirror_mode": {
    "name": "ipython",
    "version": 2
   },
   "file_extension": ".py",
   "mimetype": "text/x-python",
   "name": "python",
   "nbconvert_exporter": "python",
   "pygments_lexer": "ipython2",
   "version": "2.7.12"
  }
 },
 "nbformat": 4,
 "nbformat_minor": 2
}
